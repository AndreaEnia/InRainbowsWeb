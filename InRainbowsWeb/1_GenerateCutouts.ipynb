{
 "cells": [
  {
   "cell_type": "code",
   "execution_count": 1,
   "metadata": {},
   "outputs": [],
   "source": [
    "import numpy as np\n",
    "import os, sys, subprocess\n",
    "import pandas as pd\n",
    "from astropy.io import fits\n",
    "from astropy.coordinates import SkyCoord\n",
    "from astropy import units as u\n",
    "from astropy.wcs import WCS\n",
    "from astropy.nddata.utils import Cutout2D\n",
    "from tqdm import tqdm\n",
    "\n",
    "import config\n",
    "\n",
    "from pathlib import Path\n",
    "home = str(Path.home())\n",
    "original_path = os.getcwd()\n",
    "MainPath = home+'/sed_fitting/'\n",
    "\n",
    "%matplotlib inline\n",
    "\n",
    "import warnings\n",
    "warnings.filterwarnings(\"ignore\")"
   ]
  },
  {
   "cell_type": "code",
   "execution_count": 2,
   "metadata": {},
   "outputs": [],
   "source": [
    "class FitsUtils:\n",
    "    def __init__(self, fits_path, filtername, kind = 'sci'):\n",
    "        import numpy as np\n",
    "        from astropy.io import fits\n",
    "        from astropy.wcs import WCS\n",
    "        self.fits_path = fits_path\n",
    "        self.filtername = filtername\n",
    "        self.kind = kind\n",
    "        self.fitsfile = fits.open(self.fits_path)\n",
    "        if kind == 'sci':\n",
    "            self.signal_with_nans = self.fitsfile[0].data\n",
    "            self.signal = np.nan_to_num(self.signal_with_nans)\n",
    "            self.hdr = self.fitsfile[0].header\n",
    "        elif kind == 'err': # Err map does not have a valid hdr, so I appizzo the one from 'sci'\n",
    "            self.signal_with_nans = self.fitsfile[0].data\n",
    "            self.signal = np.nan_to_num(self.signal_with_nans)\n",
    "            scipath = fits_path[:-12]+'_sci.fits.gz'\n",
    "            self.hdr = fits.getheader(scipath)\n",
    "        elif kind == 'wht':\n",
    "            self.signal_with_nans = np.sqrt(np.absolute(1/fits.getdata(self.fits_path)))\n",
    "            self.signal = np.nan_to_num(self.signal_with_nans)\n",
    "            scipath = signal_path[:-12]+'_sci.fits.gz'\n",
    "            self.hdr = fits.open(scipath)[0].header\n",
    "        self.wcs = WCS(self.hdr)\n",
    "        self.telescope = self.hdr['TELESCOP']\n",
    "        return"
   ]
  },
  {
   "cell_type": "code",
   "execution_count": 3,
   "metadata": {},
   "outputs": [],
   "source": [
    "working_filters = ['f435w', 'f475w', 'f606w', 'f814w', 'f090w', \\\n",
    "                   'f115w', 'f150w', 'f200w', 'f277w', 'f356w', \\\n",
    "                   'f410m', 'f444w', 'f770w', 'f1800w']\n",
    "\n",
    "bundle = [(config.get_map_path(filter, 'sci'), filter, 'sci') for filter in working_filters]\n",
    "df_bundle = pd.DataFrame(bundle, columns = ['Path', 'Filter', 'kind'])"
   ]
  },
  {
   "cell_type": "markdown",
   "metadata": {},
   "source": [
    "Generate and save cutouts."
   ]
  },
  {
   "cell_type": "code",
   "execution_count": 4,
   "metadata": {
    "tags": []
   },
   "outputs": [],
   "source": [
    "def generate_cutouts(fits_file, cutout_size, df):\n",
    "    print('Cutouts for filter {0} {1} {2}'.format(fits_file.telescope, fits_file.filtername, fits_file.kind))\n",
    "    file_name = '{0}_{1}_{2}'.format(fits_file.telescope, fits_file.filtername, fits_file.kind)\n",
    "    coords = SkyCoord(df.RAJ2000.values*u.deg, df.DEJ2000.values*u.deg, frame = 'icrs')\n",
    "    for id_source, coord in zip(df.source_id.values, coords):\n",
    "        if os.path.exists('Galaxies/{0}/{1}.fits'.format(id_source, file_name)): continue\n",
    "        try: cutout = Cutout2D(fits_file.signal, coord, cutout_size, fits_file.wcs, fill_value='nan')\n",
    "        except: continue\n",
    "        if cutout.data.ptp() == 0 or \\\n",
    "            cutout.data[int(cutout.center_cutout[0]), int(cutout.center_cutout[1])] == 0:\n",
    "            print('No source in this cutout')\n",
    "            continue\n",
    "        hdu = fits.ImageHDU()\n",
    "        hdu.data = cutout.data\n",
    "        hdu.header = cutout.wcs.to_header()\n",
    "        hdu.header['CD1_1'] = fits_file.hdr['CD1_1']\n",
    "        hdu.header['CD2_2'] = fits_file.hdr['CD2_2']\n",
    "        hdu.verify('fix') \n",
    "        try: hdu.writeto('Galaxies/{0}/{1}.fits'.format(id_source, file_name), overwrite=True)\n",
    "        except:\n",
    "            subprocess.call('mkdir Galaxies/{0}'.format(id_source), shell = True)\n",
    "            hdu.writeto('Galaxies/{0}/{1}.fits'.format(id_source, file_name), overwrite=True)\n",
    "    return"
   ]
  },
  {
   "cell_type": "code",
   "execution_count": 5,
   "metadata": {},
   "outputs": [
    {
     "name": "stderr",
     "output_type": "stream",
     "text": [
      "1it [00:18, 18.57s/it]"
     ]
    },
    {
     "name": "stdout",
     "output_type": "stream",
     "text": [
      "Cutouts for filter HST f435w sci\n",
      "No source in this cutout\n"
     ]
    },
    {
     "name": "stderr",
     "output_type": "stream",
     "text": [
      "2it [00:35, 17.34s/it]"
     ]
    },
    {
     "name": "stdout",
     "output_type": "stream",
     "text": [
      "Cutouts for filter HST f475w sci\n"
     ]
    },
    {
     "name": "stderr",
     "output_type": "stream",
     "text": [
      "3it [00:57, 19.50s/it]"
     ]
    },
    {
     "name": "stdout",
     "output_type": "stream",
     "text": [
      "Cutouts for filter HST f606w sci\n"
     ]
    },
    {
     "name": "stderr",
     "output_type": "stream",
     "text": [
      "4it [01:20, 21.21s/it]"
     ]
    },
    {
     "name": "stdout",
     "output_type": "stream",
     "text": [
      "Cutouts for filter HST f814w sci\n"
     ]
    },
    {
     "name": "stderr",
     "output_type": "stream",
     "text": [
      "5it [01:39, 20.17s/it]"
     ]
    },
    {
     "name": "stdout",
     "output_type": "stream",
     "text": [
      "Cutouts for filter JWST f090w sci\n"
     ]
    },
    {
     "name": "stderr",
     "output_type": "stream",
     "text": [
      "6it [01:59, 20.06s/it]"
     ]
    },
    {
     "name": "stdout",
     "output_type": "stream",
     "text": [
      "Cutouts for filter JWST f115w sci\n"
     ]
    },
    {
     "name": "stderr",
     "output_type": "stream",
     "text": [
      "7it [02:18, 19.90s/it]"
     ]
    },
    {
     "name": "stdout",
     "output_type": "stream",
     "text": [
      "Cutouts for filter JWST f150w sci\n"
     ]
    },
    {
     "name": "stderr",
     "output_type": "stream",
     "text": [
      "8it [02:36, 19.37s/it]"
     ]
    },
    {
     "name": "stdout",
     "output_type": "stream",
     "text": [
      "Cutouts for filter JWST f200w sci\n"
     ]
    },
    {
     "name": "stderr",
     "output_type": "stream",
     "text": [
      "9it [02:56, 19.55s/it]"
     ]
    },
    {
     "name": "stdout",
     "output_type": "stream",
     "text": [
      "Cutouts for filter JWST f277w sci\n"
     ]
    },
    {
     "name": "stderr",
     "output_type": "stream",
     "text": [
      "10it [03:15, 19.16s/it]"
     ]
    },
    {
     "name": "stdout",
     "output_type": "stream",
     "text": [
      "Cutouts for filter JWST f356w sci\n"
     ]
    },
    {
     "name": "stderr",
     "output_type": "stream",
     "text": [
      "11it [03:33, 18.87s/it]"
     ]
    },
    {
     "name": "stdout",
     "output_type": "stream",
     "text": [
      "Cutouts for filter JWST f410m sci\n"
     ]
    },
    {
     "name": "stderr",
     "output_type": "stream",
     "text": [
      "12it [03:53, 19.11s/it]"
     ]
    },
    {
     "name": "stdout",
     "output_type": "stream",
     "text": [
      "Cutouts for filter JWST f444w sci\n"
     ]
    },
    {
     "name": "stderr",
     "output_type": "stream",
     "text": [
      "13it [04:10, 18.73s/it]"
     ]
    },
    {
     "name": "stdout",
     "output_type": "stream",
     "text": [
      "Cutouts for filter JWST f770w sci\n"
     ]
    },
    {
     "name": "stderr",
     "output_type": "stream",
     "text": [
      "14it [04:27, 19.09s/it]"
     ]
    },
    {
     "name": "stdout",
     "output_type": "stream",
     "text": [
      "Cutouts for filter JWST f1800w sci\n",
      "No source in this cutout\n"
     ]
    },
    {
     "name": "stderr",
     "output_type": "stream",
     "text": [
      "\n"
     ]
    }
   ],
   "source": [
    "galaxies_df = pd.DataFrame()\n",
    "galaxies_df['source_id'] = ['test_new']\n",
    "galaxies_df['RAJ2000'] = [150.0675914]\n",
    "galaxies_df['DEJ2000'] = [2.2429768]\n",
    "\n",
    "cutout_size = 10*u.arcsec\n",
    "for _, row in tqdm(df_bundle.iterrows()):\n",
    "    map_bundle = FitsUtils(row.Path, row.Filter, row.kind)\n",
    "    generate_cutouts(map_bundle, cutout_size, galaxies_df)"
   ]
  },
  {
   "cell_type": "markdown",
   "metadata": {},
   "source": [
    "---"
   ]
  }
 ],
 "metadata": {
  "kernelspec": {
   "display_name": "Python 3 (ipykernel)",
   "language": "python",
   "name": "python3"
  },
  "language_info": {
   "codemirror_mode": {
    "name": "ipython",
    "version": 3
   },
   "file_extension": ".py",
   "mimetype": "text/x-python",
   "name": "python",
   "nbconvert_exporter": "python",
   "pygments_lexer": "ipython3",
   "version": "3.11.7"
  }
 },
 "nbformat": 4,
 "nbformat_minor": 4
}
